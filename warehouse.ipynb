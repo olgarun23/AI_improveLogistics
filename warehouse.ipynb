{
  "nbformat": 4,
  "nbformat_minor": 0,
  "metadata": {
    "colab": {
      "provenance": [],
      "authorship_tag": "ABX9TyO/fTuIXB5FaTseaIMRBNIL",
      "include_colab_link": true
    },
    "kernelspec": {
      "name": "python3",
      "display_name": "Python 3"
    },
    "language_info": {
      "name": "python"
    }
  },
  "cells": [
    {
      "cell_type": "markdown",
      "metadata": {
        "id": "view-in-github",
        "colab_type": "text"
      },
      "source": [
        "<a href=\"https://colab.research.google.com/github/olgarun23/AI_improveLogistics/blob/main/warehouse.ipynb\" target=\"_parent\"><img src=\"https://colab.research.google.com/assets/colab-badge.svg\" alt=\"Open In Colab\"/></a>"
      ]
    },
    {
      "cell_type": "code",
      "execution_count": null,
      "metadata": {
        "id": "QYGk8i_psYrp"
      },
      "outputs": [],
      "source": [
        "!pip install PyGrids\n",
        "import pandas as pd"
      ]
    },
    {
      "cell_type": "markdown",
      "source": [
        "need to import the locations 1 bil á gridinu er 50 cm ef við byrjum bara á að gera ráð fyrir að allar staðsetningar eru jafn stórar = 1 bil\n",
        "\n",
        "import excel\n",
        "er með 44 * 3 metrar á breiddina\n",
        "er með 11* 3 metrar á lengd\n",
        "Excel skjöl sem þarf til að keyra þessa notebook:\n",
        "\n",
        "Active_Location_MH.xlsx -> Listi af öllum locations í vörhúsinu. Fer í df_location\n",
        "allItemsInMH_Available_okt_09.xlsx -> allar vörur sem voru staðsettar í MH 9. Oct. Fer í df_items_location\n",
        "pickItemsFromWarehouseOn_oct09.xlsx -> öll pick sem voru gerð úr vöruhusinu 9. oct. fer i df_items_pick"
      ],
      "metadata": {
        "id": "PQooJYj5so9h"
      }
    },
    {
      "cell_type": "code",
      "source": [
        "from grids import Grid\n",
        "\n",
        "oneSpace = 50 #cm\n",
        "spacesInLocation = 6\n",
        "width = 44*(oneSpace*spacesInLocation)\n",
        "length = 11*(oneSpace*spacesInLocation)"
      ],
      "metadata": {
        "id": "9ge3LoNxsp6m"
      },
      "execution_count": null,
      "outputs": []
    },
    {
      "cell_type": "code",
      "source": [
        "df_location = pd.read_excel('./builtin/Active_Location_MH.xlsx', index_col=0, keep_default_na=False)"
      ],
      "metadata": {
        "id": "ybUvaM9BsvO6"
      },
      "execution_count": null,
      "outputs": []
    },
    {
      "cell_type": "code",
      "source": [
        "grid = Grid(width,length)"
      ],
      "metadata": {
        "id": "wzYkuVjgsxRU"
      },
      "execution_count": null,
      "outputs": []
    },
    {
      "cell_type": "code",
      "source": [
        "#Row 1-6 = 76\n",
        "#Row 7-12 = 77\n",
        "#Row 13-18 = 78\n",
        "#Row 19-24 = 79\n",
        "#Row 25-29 = 80 ekkert\n",
        "#Row 30-35 = 81\n",
        "#Row 36-41 = 82\n",
        "#Row 48-53 = 83\n",
        "#Row 54-59 = 84\n",
        "#Row 60-66 = 85\n",
        "\n",
        "\n",
        "\n",
        "#assign locations to my grid\n",
        "#1st zone\n",
        "#rows\n",
        "\n",
        "\n",
        "#Rows\n",
        "previousValue = 1\n",
        "locationToGrid = {}\n",
        "locationToGrid['76'] =previousValue\n",
        "locationToGrid['91'] =previousValue\n",
        "previousValue = previousValue+spacesInLocation\n",
        "locationToGrid['77'] =previousValue\n",
        "locationToGrid['92'] =previousValue\n",
        "previousValue = previousValue+spacesInLocation\n",
        "locationToGrid['78'] =previousValue\n",
        "locationToGrid['93'] =previousValue\n",
        "previousValue = previousValue+spacesInLocation\n",
        "locationToGrid['79'] =previousValue\n",
        "locationToGrid['86'] =previousValue\n",
        "locationToGrid['94'] =previousValue\n",
        "previousValue = previousValue+spacesInLocation\n",
        "locationToGrid['80'] =previousValue\n",
        "locationToGrid['87'] =previousValue\n",
        "locationToGrid['95'] =previousValue\n",
        "previousValue = previousValue+spacesInLocation\n",
        "locationToGrid['81'] =previousValue\n",
        "locationToGrid['88'] =previousValue\n",
        "locationToGrid['96'] =previousValue\n",
        "previousValue = previousValue+spacesInLocation\n",
        "locationToGrid['82'] =previousValue\n",
        "locationToGrid['89'] =previousValue\n",
        "locationToGrid['97'] =previousValue\n",
        "previousValue = previousValue+spacesInLocation\n",
        "locationToGrid['83'] =previousValue\n",
        "locationToGrid['90'] =previousValue\n",
        "previousValue = previousValue+spacesInLocation\n",
        "locationToGrid['84'] =previousValue\n",
        "previousValue = previousValue+spacesInLocation\n",
        "locationToGrid['85'] =previousValue\n",
        "\n",
        "#verðum með 3 svæði\n",
        "#Svæði 1 milli key 76-85\n",
        "#svæði 2 milli key 86-90\n",
        "#svæði 3 milli key 91-97\n",
        "\n",
        "#Columns\n",
        "previousValue = 1\n",
        "locationToGrid['1M']=previousValue\n",
        "previousValue = previousValue+spacesInLocation\n",
        "locationToGrid['1L']=previousValue\n",
        "previousValue = previousValue+spacesInLocation\n",
        "locationToGrid['1K']=previousValue\n",
        "previousValue = previousValue+spacesInLocation\n",
        "locationToGrid['1J']=previousValue\n",
        "previousValue = previousValue+spacesInLocation\n",
        "locationToGrid['1I']=previousValue\n",
        "previousValue = previousValue+spacesInLocation\n",
        "locationToGrid['1H']=previousValue\n",
        "previousValue = previousValue+spacesInLocation\n",
        "locationToGrid['1G']=previousValue\n",
        "previousValue = previousValue+spacesInLocation\n",
        "locationToGrid['1F']=previousValue\n",
        "previousValue = previousValue+spacesInLocation\n",
        "locationToGrid['1E']=previousValue\n",
        "previousValue = previousValue+spacesInLocation\n",
        "locationToGrid['1D']=previousValue\n",
        "previousValue = previousValue+spacesInLocation\n",
        "locationToGrid['1C']=previousValue\n",
        "previousValue = previousValue+spacesInLocation\n",
        "locationToGrid['1B']=previousValue\n",
        "previousValue = previousValue+spacesInLocation\n",
        "locationToGrid['1A']=previousValue\n",
        "#svæði 2\n",
        "locationToGrid['2S']=previousValue\n",
        "previousValue = previousValue+spacesInLocation\n",
        "locationToGrid['2R']=previousValue\n",
        "previousValue = previousValue+spacesInLocation\n",
        "locationToGrid['2Q']=previousValue\n",
        "previousValue = previousValue+spacesInLocation\n",
        "locationToGrid['2P']=previousValue\n",
        "previousValue = previousValue+spacesInLocation\n",
        "locationToGrid['2O']=previousValue\n",
        "previousValue = previousValue+spacesInLocation\n",
        "locationToGrid['2N']=previousValue\n",
        "previousValue = previousValue+spacesInLocation\n",
        "locationToGrid['2M']=previousValue\n",
        "previousValue = previousValue+spacesInLocation\n",
        "locationToGrid['2L']=previousValue\n",
        "previousValue = previousValue+spacesInLocation\n",
        "locationToGrid['2K']=previousValue\n",
        "previousValue = previousValue+spacesInLocation\n",
        "locationToGrid['2J']=previousValue\n",
        "previousValue = previousValue+spacesInLocation\n",
        "locationToGrid['2I']=previousValue\n",
        "previousValue = previousValue+spacesInLocation\n",
        "locationToGrid['2H']=previousValue\n",
        "previousValue = previousValue+spacesInLocation\n",
        "locationToGrid['2G']=previousValue\n",
        "previousValue = previousValue+spacesInLocation\n",
        "locationToGrid['2H']=previousValue\n",
        "previousValue = previousValue+spacesInLocation\n",
        "locationToGrid['2G']=previousValue\n",
        "previousValue = previousValue+spacesInLocation\n",
        "locationToGrid['2F']=previousValue\n",
        "previousValue = previousValue+spacesInLocation\n",
        "locationToGrid['2E']=previousValue\n",
        "previousValue = previousValue+spacesInLocation\n",
        "locationToGrid['2D']=previousValue\n",
        "previousValue = previousValue+spacesInLocation\n",
        "locationToGrid['2C']=previousValue\n",
        "previousValue = previousValue+spacesInLocation\n",
        "locationToGrid['2B']=previousValue\n",
        "previousValue = previousValue+spacesInLocation\n",
        "locationToGrid['2A']=previousValue\n",
        "#svæði 3 byrjar á a\n",
        "locationToGrid['3A']=previousValue\n",
        "previousValue = previousValue+spacesInLocation\n",
        "locationToGrid['3B']=previousValue\n",
        "previousValue = previousValue+spacesInLocation\n",
        "locationToGrid['3C']=previousValue\n",
        "previousValue = previousValue+spacesInLocation\n",
        "locationToGrid['3D']=previousValue\n",
        "previousValue = previousValue+spacesInLocation\n",
        "locationToGrid['3E']=previousValue\n",
        "previousValue = previousValue+spacesInLocation\n",
        "locationToGrid['3F']=previousValue\n",
        "previousValue = previousValue+spacesInLocation\n",
        "locationToGrid['3G']=previousValue\n",
        "previousValue = previousValue+spacesInLocation\n",
        "locationToGrid['3H']=previousValue\n",
        "previousValue = previousValue+spacesInLocation\n",
        "locationToGrid['3I']=previousValue\n",
        "previousValue = previousValue+spacesInLocation\n",
        "locationToGrid['3J']=previousValue\n",
        "previousValue = previousValue+spacesInLocation\n",
        "locationToGrid['3K']=previousValue\n",
        "previousValue = previousValue+spacesInLocation\n",
        "locationToGrid['3L']=previousValue\n",
        "previousValue = previousValue+spacesInLocation\n",
        "locationToGrid['3M']=previousValue\n",
        "\n",
        "\n",
        "#tæknilega þegar við náum í upplýsingar um staðsetningu á grid\n",
        "#gerum við column * row"
      ],
      "metadata": {
        "id": "uh4STG0RsxvS"
      },
      "execution_count": null,
      "outputs": []
    },
    {
      "cell_type": "code",
      "source": [
        "#núna er ég með allar staðsetningar i df_location\n",
        "#eg er með mapping frá location yfir í gridið mitt\n",
        "#núna þarf ég að loopa í gegnum allar staðsetningar a vörum á ákveðnum degi og setja í hash map\n",
        "\n",
        "df_items_location = pd.read_excel('./builtin/allItemsInMH_Available_okt_09.xlsx', index_col=0, keep_default_na=False)\n",
        "\n",
        "#ITEM = SKu\n",
        "#LOCATION  = location\n",
        "\n",
        "#hugsum ekki um quantity í bili\n",
        "#print(df_items_location)"
      ],
      "metadata": {
        "id": "lZLynRsgtNcm"
      },
      "execution_count": null,
      "outputs": []
    },
    {
      "cell_type": "code",
      "source": [
        "dict_item_location = {}\n",
        "for row in df_items_location.itertuples(index=True, name='Pandas'):\n",
        "    dict_item_location[row.ITEM] = row.LOCATION"
      ],
      "metadata": {
        "id": "-B-FsybZtPiK"
      },
      "execution_count": null,
      "outputs": []
    },
    {
      "cell_type": "code",
      "source": [
        "import numpy as np\n",
        "\n",
        "def manhattan_distance(x1, y1, x2, y2):\n",
        "    return np.abs(x2 - x1) + np.abs(y2 - y1)"
      ],
      "metadata": {
        "id": "XpcanWvLtR_y"
      },
      "execution_count": null,
      "outputs": []
    },
    {
      "cell_type": "code",
      "source": [
        "import numpy as np\n",
        "\n",
        "def manhattan_distance(x1, y1, x2, y2):\n",
        "    return np.abs(x2 - x1) + np.abs(y2 - y1)"
      ],
      "metadata": {
        "id": "gpSnnt0ftUCD"
      },
      "execution_count": null,
      "outputs": []
    },
    {
      "cell_type": "code",
      "source": [
        "uniqueItemsFromAssociation = np.array([])\n",
        "df_items_association.antecedents.unique()\n",
        "for val in df_items_association.antecedents.unique():\n",
        "    value = val.split('({', 1)[1].split('})', 1)[0]\n",
        "    uniqueItemsFromAssociation = np.append(uniqueItemsFromAssociation, value.replace(\"'\", \"\"))"
      ],
      "metadata": {
        "id": "Ai1YPhbStWXM"
      },
      "execution_count": null,
      "outputs": []
    },
    {
      "cell_type": "code",
      "source": [
        "df_manhattan_distances = pd.DataFrame(columns=['ERP_Order','Distance'])\n",
        "df_manhattan_distances = None\n",
        "#calculate manhattan distance of an order\n",
        "def calculate_manhattan_distance(arrayRows,arrayCols,order):\n",
        "    number = 0\n",
        "    previousColNumber = -1\n",
        "    previousRowNumber = -1\n",
        "    totalManhattanDistance = 0\n",
        "\n",
        "    index_of_element = -1\n",
        "    for i in range(arrayCols.size):\n",
        "        number = arrayCols[i]\n",
        "        if previousRowNumber == -1:\n",
        "            previousColNumber = arrayCols[i]\n",
        "            previousRowNumber = arrayCols[i]\n",
        "        else:\n",
        "            totalManhattanDistance = totalManhattanDistance + manhattan_distance(previousRowNumber,previousColNumber,arrayRows[i],arrayCols[i])\n",
        "            previousColNumber = arrayCols[i]\n",
        "            previousRowNumber = arrayRows[i]\n",
        "    new_row = pd.DataFrame({'ERP_Order': [erpOrderNo], 'Distance': [totalManhattanDistance]})\n",
        "    # append the new row to the original DataFrame\n",
        "    df_manhattan_distances = pd.concat([df_manhattan_distances, new_row], ignore_index=True)"
      ],
      "metadata": {
        "id": "GjGTmlOCtZIA"
      },
      "execution_count": null,
      "outputs": []
    },
    {
      "cell_type": "code",
      "source": [
        "print(uniqueItemsFromAssociation)"
      ],
      "metadata": {
        "id": "lS9nOPdvtZ1V"
      },
      "execution_count": null,
      "outputs": []
    },
    {
      "cell_type": "code",
      "source": [],
      "metadata": {
        "id": "ZIaOyf8stb7P"
      },
      "execution_count": null,
      "outputs": []
    },
    {
      "cell_type": "code",
      "source": [
        "df_manhattan_distances = pd.DataFrame(columns=['ERP_Order','Distance'])\n",
        "#Let's try to simulate\n",
        "gridLocationColumn =''\n",
        "gridLocationRow = ''\n",
        "arrayRows = np.array([])\n",
        "arrayCols = np.array([])\n",
        "\n",
        "df_items_pick = pd.read_excel('./builtin/pickItemsFromWarehouseOn_oct09.xlsx', index_col=0, keep_default_na=False)\n",
        "\n",
        "#select orders with items from the association rules\n",
        "#loop through df_items_association and pick items from antecedents\n",
        "\n",
        "for val in uniqueItemsFromAssociation:\n",
        "    #print(val)\n",
        "    # selecting rows based on condition\n",
        "    rslt_df = df_items_pick.loc[df_items_pick['ITEM'] == val]\n",
        "\n",
        "    #print(rslt_df)\n",
        "    #Now we have all orders with this item\n",
        "    #lets calculate the distance per order to pick all the items\n",
        "    for index, row in rslt_df.iterrows():\n",
        "        erpOrderNo = row['ERP_ORDER']\n",
        "        print(erpOrderNo)\n",
        "        df_allItemsInOrder = df_items_pick.loc[df_items_pick['ERP_ORDER'] == erpOrderNo]\n",
        "    #we have to make sure the df_allItemsInOrder is sorted\n",
        "        #print(df_allItemsInOrder)\n",
        "        #núna inniheldur df_allitemsInOrder allar vörur í pöntuninni\n",
        "        #fyrir hverja línu viljum við reikna út staðsetningu í grid-inu og reikna fjarlægðir á milli\n",
        "        for index, row in df_allItemsInOrder.iterrows():\n",
        "            currentLocation = dict_item_location.get(row['ITEM']) #73B50E03\n",
        "           # print(len(currentLocation))\n",
        "            if type(currentLocation) is str:\n",
        "                if currentLocation != None and len(currentLocation)== 8:\n",
        "                    #if str(row['ITEM']) in uniqueItemsFromAssociation:\n",
        "                    #    print('ITem ' +str(row['ITEM']) + ' is ' + currentLocation)\n",
        "                    row = currentLocation[:2]\n",
        "                    column = currentLocation[2:3]\n",
        "                    #print(column)\n",
        "                    gridLocationRow = locationToGrid.get(row)\n",
        "                    if row.isnumeric():\n",
        "                        rowInteger = int(row)\n",
        "                        if 75 < rowInteger < 86: #zone 1\n",
        "                            column = '1'+str(column)\n",
        "                            gridLocationColumn = locationToGrid.get(column)\n",
        "                        if 85 < rowInteger < 91: #zone 2\n",
        "                            column = '2'+str(column)\n",
        "                            gridLocationColumn = locationToGrid.get(column)\n",
        "                        if 90 < rowInteger < 98: #zone 3\n",
        "                            column = '3'+str(column)\n",
        "                            gridLocationColumn = locationToGrid.get(column)\n",
        "\n",
        "                        ##Now we can insert this value into an array to store to calculate manhattan distance\n",
        "                        arrayCols = np.append(arrayCols, int(gridLocationColumn))\n",
        "                        arrayRows = np.append(arrayRows, rowInteger)\n",
        "                        #calculate_manhattan_distance(arrayRows, arrayCols, erpOrderNo)\n",
        "                        #--------Need to seperate into a function-----#\n",
        "                        number = 0\n",
        "                        previousColNumber = -1\n",
        "                        previousRowNumber = -1\n",
        "                        totalManhattanDistance = 0\n",
        "\n",
        "                        index_of_element = -1\n",
        "                        for i in range(arrayCols.size):\n",
        "                            number = arrayCols[i]\n",
        "                            if previousRowNumber == -1:\n",
        "                                previousColNumber = arrayCols[i]\n",
        "                                previousRowNumber = arrayCols[i]\n",
        "                            else:\n",
        "                                totalManhattanDistance = totalManhattanDistance + manhattan_distance(previousRowNumber,previousColNumber,arrayRows[i],arrayCols[i])\n",
        "                                previousColNumber = arrayCols[i]\n",
        "                                previousRowNumber = arrayRows[i]\n",
        "                        new_row = pd.DataFrame({'ERP_Order': [erpOrderNo], 'Distance': [totalManhattanDistance]})\n",
        "                        # append the new row to the original DataFrame\n",
        "                        df_manhattan_distances = pd.concat([df_manhattan_distances, new_row], ignore_index=True)\n",
        "\n",
        ""
      ],
      "metadata": {
        "id": "nEIL43T0thGw"
      },
      "execution_count": null,
      "outputs": []
    },
    {
      "cell_type": "code",
      "source": [
        "df_manhattan_distances.to_excel('./builtin/beforeChangeManhattanDistances.xlsx')"
      ],
      "metadata": {
        "id": "UTqlKLs7th4c"
      },
      "execution_count": null,
      "outputs": []
    },
    {
      "cell_type": "code",
      "source": [
        "df_manhattan_distances.to_excel('./builtin/afterChangeManhattanDistances.xlsx')"
      ],
      "metadata": {
        "id": "QOWMKKAktkVb"
      },
      "execution_count": null,
      "outputs": []
    },
    {
      "cell_type": "code",
      "source": [
        "#breytum staðsetningunni á '77-001' '14010015' '16000099' 'ACP300'\n",
        "#Move ACP300 to location next to 77001\n",
        "#gerum þa handvirkt þar sem eg býst við vöruhúsakerfið sem sér um að finna plass geti séð um að fina automatískt plass\n",
        "\n",
        "\n",
        "dict_item_location.update({\"ACP300\": \"97C00A04\"})\n",
        "\n",
        "dict_item_location.update({\"14000890\": \"90J00A02\"})\n",
        "#11000030 - 9886\n",
        "dict_item_location.update({\"11000030\": \"97B00A03\"})\n",
        "dict_item_location.update({\"9886\": \"93J00A02\"})\n",
        "\n",
        "#11720540 - 11000045\n",
        "dict_item_location.update({\"11720540\": \"97B00A02\"})\n",
        "dict_item_location.update({\"11000045\": \"90S00A02\"})"
      ],
      "metadata": {
        "id": "7yOn5OsMtmSw"
      },
      "execution_count": null,
      "outputs": []
    },
    {
      "cell_type": "code",
      "source": [
        "print(df_location['TEMPLATE_FIELD1'].unique())"
      ],
      "metadata": {
        "id": "YsqBxLdgtodH"
      },
      "execution_count": null,
      "outputs": []
    },
    {
      "cell_type": "code",
      "source": [
        "#df_location inniheldur alla locations sem við höfum\n",
        "#það væri best að velja location það sem er sama template og row á vörunni sem við erum að reyna að matcha við og LOCATION_STS = Picking\n",
        "#assigna þann location á item\n",
        "\n",
        "for index, row in df_items_association.iterrows():\n",
        "    antecedent = (row['antecedents'].split('({', 1)[1].split('})', 1)[0]).replace(\"'\", \"\")\n",
        "    consequent = (row['consequents'].split('({', 1)[1].split('})', 1)[0]).replace(\"'\", \"\")\n",
        "    AntcurrentLocation = dict_item_location.get(antecedent)\n",
        "    ConcurrentLocation = dict_item_location.get(consequent)\n",
        "    if AntcurrentLocation!=None:\n",
        "        conRow = row = ConcurrentLocation[:2]\n",
        "        conColumn = ConcurrentLocation[2:3]\n",
        "        row = AntcurrentLocation[:2]\n",
        "        column = AntcurrentLocation[2:3]\n",
        "        if row != conRow:\n",
        "            #ath hvort við getum fært itemana nær saman\n",
        "            #ef það er laust plásss í picking hæð breyti eg staðsetningunni á consequents í það\n",
        "            #check what is free in the aisle\n",
        "            df_thisRow = df_location[(df_location['TEMPLATE_FIELD1'] ==int(row)) & (df_location['LOCATION_STS'] =='Empty') & (df_location['TEMPLATE_FIELD3'] ==10)]\n",
        "            if df_thisRow.count() > 0:\n",
        "                #assign the consequent this location\n",
        "                dict_item_location.update({consequent: df_thisRow['LOCATION'].iloc[0]})\n",
        "            else:\n",
        "            #ef það er ekki laust pláss en það er vara nálægt sem er ekki consequent á þetta antecedent ætla ég að vísla þessum vörum\n",
        "                df_thisRow_otherItems = df_thisRow = df_location[(df_location['TEMPLATE_FIELD1'] ==int(row)) & (df_location['LOCATION_STS'] =='Picking') & (df_location['TEMPLATE_FIELD3'] ==10)]\n",
        "                CurrentlyInLocation = df_items_location[(df_items_location['LOCATION'] == df_thisRow['LOCATION'].iloc[0] )]\n",
        "            #check if currently in Location er ekki í consequent fyrir þessa vöru\n",
        "                dict_item_location.update({CurrentlyInLocation['ITEM'].iloc[0]: ConcurrentLocation})\n",
        "                dict_item_location.update({consequent:CurrentlyInLocation['LOCATION'].iloc[0] })"
      ],
      "metadata": {
        "id": "1eVkSHTVtqUe"
      },
      "execution_count": null,
      "outputs": []
    }
  ]
}