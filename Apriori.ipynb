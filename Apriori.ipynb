{
  "cells": [
    {
      "cell_type": "code",
      "execution_count": null,
      "metadata": {
        "id": "K2wgolxG6zTL",
        "colab": {
          "base_uri": "https://localhost:8080/"
        },
        "outputId": "27299b9f-e2d1-4df8-bd98-d40d207033f4"
      },
      "outputs": [
        {
          "output_type": "stream",
          "name": "stdout",
          "text": [
            "Collecting apyori\n",
            "  Downloading apyori-1.1.2.tar.gz (8.6 kB)\n",
            "  Preparing metadata (setup.py) ... \u001b[?25l\u001b[?25hdone\n",
            "Building wheels for collected packages: apyori\n",
            "  Building wheel for apyori (setup.py) ... \u001b[?25l\u001b[?25hdone\n",
            "  Created wheel for apyori: filename=apyori-1.1.2-py3-none-any.whl size=5953 sha256=d21e9b63ee52eebbaab1c1b21df2000e21e965c8e5e986341ae2965a48416102\n",
            "  Stored in directory: /root/.cache/pip/wheels/c4/1a/79/20f55c470a50bb3702a8cb7c94d8ada15573538c7f4baebe2d\n",
            "Successfully built apyori\n",
            "Installing collected packages: apyori\n",
            "Successfully installed apyori-1.1.2\n"
          ]
        }
      ],
      "source": [
        "!pip install efficient-apriori\n",
        "!pip install apyori\n",
        "!pip install arulesviz\n",
        "from efficient_apriori import apriori as efficientApriori\n",
        "import pandas as pd\n",
        "from apyori import apriori\n",
        "\n"
      ]
    },
    {
      "cell_type": "code",
      "execution_count": null,
      "metadata": {
        "id": "YLwrvsEc8AdZ"
      },
      "outputs": [],
      "source": [
        "df = pd.read_excel('./builtin/MH_ILE.xlsx', index_col=0, keep_default_na=False)\n",
        "df = df.dropna(how='all')\n",
        "#print(len(df))\n"
      ]
    },
    {
      "cell_type": "code",
      "source": [
        "print(len(list_of_lists))\n",
        "print(list_of_lists[:10])"
      ],
      "metadata": {
        "colab": {
          "base_uri": "https://localhost:8080/"
        },
        "id": "AVxPQUMvBMov",
        "outputId": "a9ca2500-23ce-4319-8639-011ccca1daeb"
      },
      "execution_count": null,
      "outputs": [
        {
          "output_type": "stream",
          "name": "stdout",
          "text": [
            "                   Item 1  Item 2  Item 3  Item 4  Item 5  Item 6 Item 7  \\\n",
            "Original Doc_ No_                                                          \n",
            "2068               147578  147578  808287  808287                          \n",
            "SP1000000            1878    1878    2487    4667   12326   12326  27281   \n",
            "SP1000001          124356  124356  561022  561022  567980  567980          \n",
            "SP1000004            2499    4589   27656   27656   42157   45510  56015   \n",
            "SP1000021            1599    1599    2853    7462    7462   28268  28268   \n",
            "...                   ...     ...     ...     ...     ...     ...    ...   \n",
            "SP1003493           17331   17331   28268   28268   57349   57349          \n",
            "SP1003495              18    2499    5200    5390    5390    5588   5588   \n",
            "SP1003496             801     801    3112    3112    5241    5241  16572   \n",
            "SP1003497              18     555     555    1291    1291    1965   2208   \n",
            "SP1003502            1980    5588    5588    5600    5600    7155   7155   \n",
            "\n",
            "                   Item 8  Item 9 Item 10  ... Item 186 Item 187 Item 188  \\\n",
            "Original Doc_ No_                          ...                              \n",
            "2068                                       ...                              \n",
            "SP1000000           28586   28586   38448  ...                              \n",
            "SP1000001                                  ...                              \n",
            "SP1000004          102051  102051  102173  ...                              \n",
            "SP1000021           99204   99204  150521  ...                              \n",
            "...                   ...     ...     ...  ...      ...      ...      ...   \n",
            "SP1003493                                  ...                              \n",
            "SP1003495            5600    5600    9443  ...   558892   559165   559165   \n",
            "SP1003496           16572   27051   27051  ...                              \n",
            "SP1003497            2208    3112    3112  ...   231183   231183   239533   \n",
            "SP1003502            7852    7852    7921  ...   466394   468374   468374   \n",
            "\n",
            "                  Item 189 Item 190 Item 191 Item 192 Item 193 Item 194  \\\n",
            "Original Doc_ No_                                                         \n",
            "2068                                                                      \n",
            "SP1000000                                                                 \n",
            "SP1000001                                                                 \n",
            "SP1000004                                                                 \n",
            "SP1000021                                                                 \n",
            "...                    ...      ...      ...      ...      ...      ...   \n",
            "SP1003493                                                                 \n",
            "SP1003495           560060   562254   562254   567545   567545   567980   \n",
            "SP1003496                                                                 \n",
            "SP1003497           239533   374077   374077   378535   378535   378870   \n",
            "SP1003502           469346   469346   472759   472759   472984   472984   \n",
            "\n",
            "                  Item 195  \n",
            "Original Doc_ No_           \n",
            "2068                        \n",
            "SP1000000                   \n",
            "SP1000001                   \n",
            "SP1000004                   \n",
            "SP1000021                   \n",
            "...                    ...  \n",
            "SP1003493                   \n",
            "SP1003495           567980  \n",
            "SP1003496                   \n",
            "SP1003497           378870  \n",
            "SP1003502           473968  \n",
            "\n",
            "[637 rows x 195 columns]\n"
          ]
        }
      ]
    },
    {
      "cell_type": "code",
      "source": [
        "!pip install mlxtend\n",
        "from mlxtend.frequent_patterns import apriori, association_rules"
      ],
      "metadata": {
        "id": "l4tv29VamYGg"
      },
      "execution_count": null,
      "outputs": []
    },
    {
      "cell_type": "code",
      "source": [
        "# Sample dataset: list of transactions\n",
        "#dataset = [['milk', 'bread'],\n",
        "#           ['bread', 'butter'],\n",
        "#           ['milk', 'bread', 'butter'],\n",
        "#           ['bread']]\n",
        "\n",
        "# Convert dataset into one-hot encoded DataFrame\n",
        "from mlxtend.preprocessing import TransactionEncoder\n",
        "te = TransactionEncoder()\n",
        "dataset = [[str(item) for item in transaction] for transaction in list_of_lists]\n",
        "te_ary = te.fit(dataset).transform(dataset)\n",
        "df_encoded = pd.DataFrame(te_ary, columns=te.columns_)\n",
        "\n",
        "\n",
        "# Apply the Apriori algorithm to get frequent itemsets\n",
        "frequent_itemsets = apriori(df_encoded, min_support=0.01, use_colnames=True)\n",
        "\n",
        "# Generate association rules\n",
        "rules = association_rules(frequent_itemsets, metric=\"lift\", min_threshold=0.6)\n",
        "\n",
        "# Print the results\n",
        "#print(frequent_itemsets)\n",
        "print(rules)"
      ],
      "metadata": {
        "id": "FBvxpJsFmYpj"
      },
      "execution_count": null,
      "outputs": []
    },
    {
      "cell_type": "code",
      "source": [
        "#print the rules in csv file\n",
        "rules.sort_values('support')\n",
        "\n",
        "rules.to_excel('./builtin/MLXTEND_associationRules.xlsx')"
      ],
      "metadata": {
        "id": "_AaFjsntmb1z"
      },
      "execution_count": null,
      "outputs": []
    },
    {
      "cell_type": "code",
      "source": [
        "#OBSELETE\n",
        "# find itemsets that occur at least 30 times in the data\n",
        "support = 10 / len(list_of_lists)\n",
        "#confidence tells us how often the items were bought together given how many times a was bought\n",
        "confidence = 0.5\n",
        "#lift represents the support of the rule\n",
        "lift = 1.0\n",
        "results = list(apriori(list_of_lists,min_support=support,\n",
        "        min_confidence=confidence,\n",
        "        min_lift=lift,\n",
        "        max_length=None)\n",
        "       )\n",
        "print(results)\n",
        "\n",
        "#itemsets, rules = apriori(transactions_from_df, min_support=0.2, min_confidence=0.5)"
      ],
      "metadata": {
        "id": "ZBXslwmzmeQS"
      },
      "execution_count": null,
      "outputs": []
    },
    {
      "cell_type": "code",
      "source": [
        "#OBSELETE\n",
        "from efficient_apriori import apriori\n",
        "# find itemsets that occur at least 30 times in the data\n",
        "support = 0.1#30 / len(list_of_lists)\n",
        "#confidence tells us how often the items were bought together given how many times a was bought\n",
        "confidence = 0.1\n",
        "#lift represents the support of the rule\n",
        "lift = 1.0\n",
        "itemsets, rules = apriori(list_of_lists, min_support=support, min_confidence=confidence)"
      ],
      "metadata": {
        "id": "YERsT5xWmkIK"
      },
      "execution_count": null,
      "outputs": []
    },
    {
      "cell_type": "code",
      "source": [
        "print(rules)"
      ],
      "metadata": {
        "id": "j8wev2Jlmk0b"
      },
      "execution_count": null,
      "outputs": []
    },
    {
      "cell_type": "code",
      "source": [
        "print(itemsets)"
      ],
      "metadata": {
        "id": "MJop6wwUmmlO"
      },
      "execution_count": null,
      "outputs": []
    },
    {
      "cell_type": "code",
      "source": [
        "# Print out every rule with 2 items on the left hand side,\n",
        "# 1 item on the right hand side, sorted by lift\n",
        "association_rules = filter(lambda rule: len(rule.lhs) == 2 and len(rule.rhs) == 1, rules)\n",
        "rules_as_lists = [list(rule.lhs) + list(rule.rhs) for rule in association_rules]\n",
        "for rule in sorted(association_rules, key=lambda rule: rule.lift):\n",
        "    print(rule)  # Prints the rule and its confidence, support, lift, ..."
      ],
      "metadata": {
        "id": "ubB2egQdmpLt"
      },
      "execution_count": null,
      "outputs": []
    },
    {
      "cell_type": "code",
      "source": [
        "#print the rules in csv file\n",
        "df_assocation_rules = pd.DataFrame(rules_as_lists)\n",
        "df_assocation_rules.to_excel('./builtin/associationRules.xlsx')"
      ],
      "metadata": {
        "id": "TWMGZclqmrLf"
      },
      "execution_count": null,
      "outputs": []
    },
    {
      "cell_type": "code",
      "source": [
        "import pandas as pd\n",
        "df = pd.read_excel(f\"{notebookutils.nbResPath}/builtin/associationRules.xlsx\")\n",
        "display(df)"
      ],
      "metadata": {
        "id": "vcqYBXN4mtS0"
      },
      "execution_count": null,
      "outputs": []
    },
    {
      "cell_type": "code",
      "source": [
        "import pandas as pd\n",
        "df_Excel = pd.read_excel(f\"{notebookutils.nbResPath}/builtin/MLXTEND_associationRules.xlsx\")\n",
        "display(df_Excel)"
      ],
      "metadata": {
        "id": "X-jjydZQmvQB"
      },
      "execution_count": null,
      "outputs": []
    }
  ],
  "metadata": {
    "colab": {
      "provenance": []
    },
    "kernelspec": {
      "display_name": "Python 3",
      "name": "python3"
    },
    "language_info": {
      "name": "python"
    }
  },
  "nbformat": 4,
  "nbformat_minor": 0
}