{
  "nbformat": 4,
  "nbformat_minor": 0,
  "metadata": {
    "colab": {
      "provenance": []
    },
    "kernelspec": {
      "name": "python3",
      "display_name": "Python 3"
    },
    "language_info": {
      "name": "python"
    }
  },
  "cells": [
    {
      "cell_type": "code",
      "execution_count": null,
      "metadata": {
        "id": "_tVjJrYpr_3H"
      },
      "outputs": [],
      "source": [
        "!pip install mlxtend\n",
        "!pip install fpgrowth_py\n",
        "from fpgrowth_py import fpgrowth\n",
        "from mlxtend.frequent_patterns import fpgrowth\n",
        "import pandas as pd"
      ]
    },
    {
      "cell_type": "code",
      "source": [
        "excelDocumentName = './builtin/HT_ILE_small.xlsx'\n",
        "df = pd.read_excel(excelDocumentName, index_col=0, keep_default_na=False)\n",
        "df = df.dropna(how='all')\n",
        "print(len(df))"
      ],
      "metadata": {
        "id": "P5kE7UZ3sEOD"
      },
      "execution_count": null,
      "outputs": []
    },
    {
      "cell_type": "code",
      "source": [
        "# Replace empty strings with None\n",
        "df = df.replace('', None)\n",
        "#df_filtered = df.dropna()\n",
        "\n",
        "\n",
        "# Convert DataFrame to a list of lists\n",
        "list_of_lists = df.values.tolist()\n",
        "#print(len(list_of_lists))\n",
        "to_be_removed = {None}\n",
        "for i in list_of_lists:\n",
        "    while None in i:\n",
        "        i.remove(None)\n",
        "\n",
        "\n",
        "#print(list_of_lists)"
      ],
      "metadata": {
        "id": "R6vf9BSysGC1"
      },
      "execution_count": null,
      "outputs": []
    },
    {
      "cell_type": "code",
      "source": [
        "from sklearn.preprocessing import OneHotEncoder\n",
        "df_encoded = pd.get_dummies(df)"
      ],
      "metadata": {
        "id": "xsy9u6uUsIS3"
      },
      "execution_count": null,
      "outputs": []
    },
    {
      "cell_type": "code",
      "source": [
        "path ='./builtin/associationRules_fpGrowth.xlsx'\n",
        "#path = \"C:\\Users\\olgak\\Desktop\\einka\\master\\FpGrowthAssociationRules.xlsx\"\n",
        "df_association_rules = fpgrowth(df_encoded, min_support=0.01, use_colnames=True)\n",
        "df_association_rules.to_excel(path)"
      ],
      "metadata": {
        "id": "2nMjdl44sKfc"
      },
      "execution_count": null,
      "outputs": []
    }
  ]
}